{
 "cells": [
  {
   "cell_type": "markdown",
   "metadata": {},
   "source": [
    "# Sintetic Software Used  To Analysis of Cassandra's Performance"
   ]
  },
  {
   "cell_type": "markdown",
   "metadata": {},
   "source": [
    "## Imports"
   ]
  },
  {
   "cell_type": "code",
   "execution_count": 36,
   "metadata": {},
   "outputs": [
    {
     "data": {
      "text/plain": [
       "0.5582405004552239"
      ]
     },
     "execution_count": 36,
     "metadata": {},
     "output_type": "execute_result"
    }
   ],
   "source": [
    "from cassandra.cluster import Cluster\n",
    "from cassandra.auth import PlainTextAuthProvider\n",
    "import time\n",
    "\n",
    "## Database configuration\n",
    "\n",
    "cluster = Cluster(['localhost'], auth_provider=PlainTextAuthProvider('cassandra', 'cassandra'))\n",
    "session = cluster.connect()\n",
    "\n",
    "# Create KeySpace\n",
    "session.execute('CREATE KEYSPACE IF NOT EXISTS analysis WITH replication = {\\'class\\': \\'SimpleStrategy\\', \\'replication_factor\\': 1}')\n",
    "\n",
    "# Use KeySpace created\n",
    "session.set_keyspace('analysis')\n",
    "\n",
    "# Create Table\n",
    "session.execute(\"CREATE TABLE IF NOT EXISTS \\\"table\\\" (\"+\n",
    "                \"A0 uuid, \"+\n",
    "                \"A1 int PRIMARY KEY, \"+\n",
    "                \"A2 bigint, \"+\n",
    "                \"A3 double, \"+\n",
    "                \"A4 varchar, \"+\n",
    "                \"A5 text, \"+\n",
    "                \"A6 date, \"+\n",
    "                \"A7 timestamp )\")\n",
    "rows = session.execute('select * from system_schema.columns')\n",
    "print('+----------------------------------+')\n",
    "print('|              table               |')\n",
    "print('+----------------------------------+')\n",
    "for row in rows:\n",
    "    if row.table_name == 'table':\n",
    "        print('|', row.column_name, '|', row.type, ' '*(9-len(row.type)), '|',  row.kind, ' '*(13-len(row.kind)), '|')\n",
    "print('+----------------------------------+')\n",
    "\n",
    "## Meta data\n",
    "\n",
    "# * R is the number of iterations <br />\n",
    "# * BI is the size of a block of insertions<br />\n",
    "# * BU is the size of a block of updates<br />\n",
    "# * BS is the size of a block of selections<br />\n",
    "\n",
    "R = 60\n",
    "BI = BU = BS = 500000\n",
    "categories = [i+1 for i in range(R)]\n",
    "\n",
    "## Definition of functions\n",
    "\n",
    "def insert(control):\n",
    "    initialTime = time.time()\n",
    "    for i in range(BI):\n",
    "        session.execute('INSERT INTO \"table\" (A0, A1, A2, A3, A4, A5, A6, A7) VALUES ('+\n",
    "                        'uuid(), '+\n",
    "                        str(control)+', '+\n",
    "                        '9223372036854775807, '+\n",
    "                        '1.2, '+\n",
    "                        '\\'abcdefghijklmnopqrstuvwxy\\', '+\n",
    "                        '\\'Lorem ipsum dolor sit amet, consectetur adipiscing elit. Integer ultricies lorem metus, vel finibus risus convallis sit amet. Nam auctor ex et ipsum euismod, vel consectetur eros blandit. Sed sit amet enim vitae nisi varius molestie. Maecenas in tortor sem. Ut sit amet lobortis erat, ac egestas libero. Nunc id purus sodales, dictum massa gravida, condimentum diam. Maecenas eu vulputate nunc, vitae tempor odio. Orci varius natoque penatibus et magnis dis parturient montes, nascetur ridiculus mus. Duis vitae turpis quam. Maecenas at dui at justo vehicula scelerisque eu in eros. Sed volutpat, magna nec pretium tincidunt, risus nibh posuere mauris, quis feugiat augue lorem ut nunc. Lorem ipsum dolor sit amet, consectetur adipiscing elit. In eu tellus nec nulla ultricies efficitur. Interdum et malesuada fames ac ante ipsum primis in faucibus. \\', '+\n",
    "                        'toDate(dateof(now())), '+\n",
    "                        'dateof(now())'+\n",
    "                        ')')\n",
    "        control += 1\n",
    "    return (time.time() - initialTime), control\n",
    "\n",
    "def update(control):\n",
    "    initialTime = time.time()\n",
    "    for i in range(BI):\n",
    "        session.execute('UPDATE \"table\" SET '+\n",
    "                        'A2 = 9223372036854775800, '+\n",
    "                        'A3 = 1.3, '+\n",
    "                        'A4 = \\'abbdefghijklmnopqrstuvwxy\\', '+\n",
    "                        'A5 = \\'Lorem ipsum dolor site amet, consectetur adipiscing elit. Integer ultricies lorem metus, vel finibus risus convallis sit amet. Nam auctor ex et ipsum euismod, vel consectetur eros blandit. Sed sit amet enim vitae nisi varius molestie. Maecenas in tortor sem. Ut sit amet lobortis erat, ac egestas libero. Nunc id purus sodales, dictum massa gravida, condimentum diam. Maecenas eu vulputate nunc, vitae tempor odio. Orci varius natoque penatibus et magnis dis parturient montes, nascetur ridiculus mus. Duis vitae turpis quam. Maecenas at dui at justo vehicula scelerisque eu in eros. Sed volutpat, magna nec pretium tincidunt, risus nibh posuere mauris, quis feugiat augue lorem ut nunc. Lorem ipsum dolor sit amet, consectetur adipiscing elit. In eu tellus nec nulla ultricies efficitur. Interdum et malesuada fames ac ante ipsum primis in faucibus. \\', '+\n",
    "                        'A6 = toDate(dateof(now())), '+\n",
    "                        'A7 = dateof(now())'+\n",
    "                        'WHERE A1 = '+str(control))\n",
    "        control += 1\n",
    "    return (time.time() - initialTime), control\n",
    "\n",
    "def select(control):\n",
    "    initialTime = time.time()\n",
    "    for i in range(BI):\n",
    "        session.execute('SELECT * FROM \"table\" WHERE A1 = '+str(control))\n",
    "        control += 1\n",
    "    return (time.time() - initialTime), control\n",
    "\n",
    "## Storage\n",
    "\n",
    "insertTimes = []\n",
    "updateTimes = []\n",
    "selectTimes = []\n",
    "\n",
    "## DO IT\n",
    "\n",
    "control = 1\n",
    "for j in range(R):\n",
    "    control = BI*j + 1\n",
    "    t, control = insert(control)\n",
    "    print('Insert', control)\n",
    "    insertTimes.append(t)\n",
    "    control = BI*j + 1\n",
    "    t, control = update(control)\n",
    "    print('Update', control)\n",
    "    updateTimes.append(t)\n",
    "    control = BI*j + 1\n",
    "    t, control = select(control)\n",
    "    print('Select', control)\n",
    "    selectTimes.append(t)"
   ]
  },
  {
   "cell_type": "code",
   "execution_count": null,
   "metadata": {},
   "outputs": [],
   "source": []
  }
 ],
 "metadata": {
  "kernelspec": {
   "display_name": "Python 3",
   "language": "python",
   "name": "python3"
  },
  "language_info": {
   "codemirror_mode": {
    "name": "ipython",
    "version": 3
   },
   "file_extension": ".py",
   "mimetype": "text/x-python",
   "name": "python",
   "nbconvert_exporter": "python",
   "pygments_lexer": "ipython3",
   "version": "3.6.5"
  }
 },
 "nbformat": 4,
 "nbformat_minor": 2
}
