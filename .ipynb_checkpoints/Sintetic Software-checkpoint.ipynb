{
 "cells": [
  {
   "cell_type": "markdown",
   "metadata": {},
   "source": [
    "# Sintetic Software Used  To Analysis of Cassandra's Performance"
   ]
  },
  {
   "cell_type": "markdown",
   "metadata": {},
   "source": [
    "## Imports"
   ]
  },
  {
   "cell_type": "code",
   "execution_count": 1,
   "metadata": {},
   "outputs": [],
   "source": [
    "from cassandra.cluster import Cluster\n",
    "from cassandra.auth import PlainTextAuthProvider\n",
    "import time\n",
    "import matplotlib.pyplot as plt"
   ]
  },
  {
   "cell_type": "markdown",
   "metadata": {},
   "source": [
    "## Database configuration\n",
    "\n",
    "### Database Structure\n",
    "<pre>+-----------------------+ \n",
    "|        table          |\n",
    "+-----------------------+\n",
    "| A0 | UUID        |    |\n",
    "| A1 | INT         | PK |\n",
    "| A2 | BIGINT      |    |\n",
    "| A3 | DOUBLE      |    |\n",
    "| A4 | VARCHAR(26) |    |\n",
    "| A5 | TEXT        |    |\n",
    "| A6 | DATE        |    |\n",
    "| A7 | TIMESTAMP   |    |\n",
    "+-----------------------+</pre>"
   ]
  },
  {
   "cell_type": "code",
   "execution_count": 2,
   "metadata": {
    "scrolled": true
   },
   "outputs": [
    {
     "name": "stdout",
     "output_type": "stream",
     "text": [
      "+----------------------------------+\n",
      "|              table               |\n",
      "+----------------------------------+\n",
      "| a0 | uuid       | regular        |\n",
      "| a1 | int        | partition_key  |\n",
      "| a2 | bigint     | regular        |\n",
      "| a3 | double     | regular        |\n",
      "| a4 | text       | regular        |\n",
      "| a5 | text       | regular        |\n",
      "| a6 | date       | regular        |\n",
      "| a7 | timestamp  | regular        |\n",
      "+----------------------------------+\n"
     ]
    }
   ],
   "source": [
    "cluster = Cluster(['localhost'], auth_provider=PlainTextAuthProvider('cassandra', 'cassandra'))\n",
    "session = cluster.connect()\n",
    "\n",
    "# Set User\n",
    "# session.execute('ALTER USER cassandra WITH PASSWORD \\'cassandra\\'')\n",
    "\n",
    "# Create KeySpace\n",
    "session.execute('CREATE KEYSPACE IF NOT EXISTS analysis WITH replication = {\\'class\\': \\'SimpleStrategy\\', \\'replication_factor\\': 1}')\n",
    "\n",
    "# Use KeySpace created\n",
    "session.set_keyspace('analysis')\n",
    "\n",
    "# Create Table\n",
    "session.execute(\"CREATE TABLE IF NOT EXISTS \\\"table\\\" (\"+\n",
    "                \"A0 uuid, \"+\n",
    "                \"A1 int PRIMARY KEY, \"+\n",
    "                \"A2 bigint, \"+\n",
    "                \"A3 double, \"+\n",
    "                \"A4 varchar, \"+\n",
    "                \"A5 text, \"+\n",
    "                \"A6 date, \"+\n",
    "                \"A7 timestamp )\")\n",
    "rows = session.execute('select * from system_schema.columns')\n",
    "print('+----------------------------------+')\n",
    "print('|              table               |')\n",
    "print('+----------------------------------+')\n",
    "for row in rows:\n",
    "    if row.table_name == 'table':\n",
    "        print('|', row.column_name, '|', row.type, ' '*(9-len(row.type)), '|',  row.kind, ' '*(13-len(row.kind)), '|')\n",
    "print('+----------------------------------+')"
   ]
  },
  {
   "cell_type": "markdown",
   "metadata": {},
   "source": [
    "## Meta data\n",
    "\n",
    "* R is the number of iterations <br />\n",
    "* BI is the size of a block of insertions<br />\n",
    "* BU is the size of a block of updates<br />\n",
    "* BS is the size of a block of selections<br />"
   ]
  },
  {
   "cell_type": "code",
   "execution_count": 3,
   "metadata": {},
   "outputs": [],
   "source": [
    "R = 60\n",
    "BI = BU = BS = 500000\n",
    "categories = [i+1 for i in range(R)]"
   ]
  },
  {
   "cell_type": "markdown",
   "metadata": {},
   "source": [
    "## Definition of functions"
   ]
  },
  {
   "cell_type": "code",
   "execution_count": 4,
   "metadata": {},
   "outputs": [],
   "source": [
    "def insert(control):\n",
    "    initialTime = time.time()\n",
    "    for i in range(BI):\n",
    "        session.execute('INSERT INTO \"table\" (A0, A1, A2, A3, A4, A5, A6, A7) VALUES ('+\n",
    "                        'uuid(), '+\n",
    "                        str(control)+', '+\n",
    "                        '9223372036854775807, '+\n",
    "                        '1.2, '+\n",
    "                        '\\'abcdefghijklmnopqrstuvwxy\\', '+\n",
    "                        '\\'Lorem ipsum dolor sit amet, consectetur adipiscing elit. Integer ultricies lorem metus, vel finibus risus convallis sit amet. Nam auctor ex et ipsum euismod, vel consectetur eros blandit. Sed sit amet enim vitae nisi varius molestie. Maecenas in tortor sem. Ut sit amet lobortis erat, ac egestas libero. Nunc id purus sodales, dictum massa gravida, condimentum diam. Maecenas eu vulputate nunc, vitae tempor odio. Orci varius natoque penatibus et magnis dis parturient montes, nascetur ridiculus mus. Duis vitae turpis quam. Maecenas at dui at justo vehicula scelerisque eu in eros. Sed volutpat, magna nec pretium tincidunt, risus nibh posuere mauris, quis feugiat augue lorem ut nunc. Lorem ipsum dolor sit amet, consectetur adipiscing elit. In eu tellus nec nulla ultricies efficitur. Interdum et malesuada fames ac ante ipsum primis in faucibus. \\', '+\n",
    "                        'toDate(dateof(now())), '+\n",
    "                        'dateof(now())'+\n",
    "                        ')')\n",
    "        control += 1\n",
    "    return (time.time() - initialTime), control"
   ]
  },
  {
   "cell_type": "code",
   "execution_count": 5,
   "metadata": {},
   "outputs": [],
   "source": [
    "def update(control):\n",
    "    initialTime = time.time()\n",
    "    for i in range(BI):\n",
    "        session.execute('UPDATE \"table\" SET '+\n",
    "                        'A2 = 9223372036854775800, '+\n",
    "                        'A3 = 1.3, '+\n",
    "                        'A4 = \\'abbdefghijklmnopqrstuvwxy\\', '+\n",
    "                        'A5 = \\'Lorem ipsum dolor site amet, consectetur adipiscing elit. Integer ultricies lorem metus, vel finibus risus convallis sit amet. Nam auctor ex et ipsum euismod, vel consectetur eros blandit. Sed sit amet enim vitae nisi varius molestie. Maecenas in tortor sem. Ut sit amet lobortis erat, ac egestas libero. Nunc id purus sodales, dictum massa gravida, condimentum diam. Maecenas eu vulputate nunc, vitae tempor odio. Orci varius natoque penatibus et magnis dis parturient montes, nascetur ridiculus mus. Duis vitae turpis quam. Maecenas at dui at justo vehicula scelerisque eu in eros. Sed volutpat, magna nec pretium tincidunt, risus nibh posuere mauris, quis feugiat augue lorem ut nunc. Lorem ipsum dolor sit amet, consectetur adipiscing elit. In eu tellus nec nulla ultricies efficitur. Interdum et malesuada fames ac ante ipsum primis in faucibus. \\', '+\n",
    "                        'A6 = toDate(dateof(now())), '+\n",
    "                        'A7 = dateof(now())'+\n",
    "                        'WHERE A1 = '+str(control))\n",
    "        control += 1\n",
    "    return (time.time() - initialTime), control"
   ]
  },
  {
   "cell_type": "code",
   "execution_count": 6,
   "metadata": {},
   "outputs": [],
   "source": [
    "def select(control):\n",
    "    initialTime = time.time()\n",
    "    for i in range(BI):\n",
    "        session.execute('SELECT * FROM \"table\" WHERE A1 = '+str(control))\n",
    "        control += 1\n",
    "    return (time.time() - initialTime), control"
   ]
  },
  {
   "cell_type": "markdown",
   "metadata": {},
   "source": [
    "## Storage"
   ]
  },
  {
   "cell_type": "code",
   "execution_count": 7,
   "metadata": {},
   "outputs": [],
   "source": [
    "insertTimes = []\n",
    "updateTimes = []\n",
    "selectTimes = []"
   ]
  },
  {
   "cell_type": "markdown",
   "metadata": {},
   "source": [
    "## DO IT"
   ]
  },
  {
   "cell_type": "code",
   "execution_count": 8,
   "metadata": {},
   "outputs": [
    {
     "name": "stdout",
     "output_type": "stream",
     "text": [
      "Insert 500001\n",
      "Update 500001\n",
      "Select 500001\n",
      "Insert 1000001\n",
      "Update 1000001\n",
      "Select 1000001\n",
      "Insert 1500001\n",
      "Update 1500001\n",
      "Select 1500001\n",
      "Insert 2000001\n",
      "Update 2000001\n",
      "Select 2000001\n",
      "Insert 2500001\n",
      "Update 2500001\n",
      "Select 2500001\n",
      "Insert 3000001\n",
      "Update 3000001\n",
      "Select 3000001\n",
      "Insert 3500001\n",
      "Update 3500001\n",
      "Select 3500001\n",
      "Insert 4000001\n",
      "Update 4000001\n",
      "Select 4000001\n",
      "Insert 4500001\n",
      "Update 4500001\n",
      "Select 4500001\n",
      "Insert 5000001\n",
      "Update 5000001\n",
      "Select 5000001\n",
      "Insert 5500001\n",
      "Update 5500001\n",
      "Select 5500001\n",
      "Insert 6000001\n",
      "Update 6000001\n",
      "Select 6000001\n",
      "Insert 6500001\n",
      "Update 6500001\n",
      "Select 6500001\n",
      "Insert 7000001\n",
      "Update 7000001\n",
      "Select 7000001\n",
      "Insert 7500001\n",
      "Update 7500001\n",
      "Select 7500001\n",
      "Insert 8000001\n",
      "Update 8000001\n",
      "Select 8000001\n",
      "Insert 8500001\n",
      "Update 8500001\n",
      "Select 8500001\n",
      "Insert 9000001\n",
      "Update 9000001\n",
      "Select 9000001\n",
      "Insert 9500001\n",
      "Update 9500001\n",
      "Select 9500001\n",
      "Insert 10000001\n",
      "Update 10000001\n",
      "Select 10000001\n",
      "Insert 10500001\n",
      "Update 10500001\n",
      "Select 10500001\n",
      "Insert 11000001\n",
      "Update 11000001\n",
      "Select 11000001\n",
      "Insert 11500001\n",
      "Update 11500001\n",
      "Select 11500001\n",
      "Insert 12000001\n",
      "Update 12000001\n",
      "Select 12000001\n",
      "Insert 12500001\n",
      "Update 12500001\n",
      "Select 12500001\n",
      "Insert 13000001\n",
      "Update 13000001\n",
      "Select 13000001\n",
      "Insert 13500001\n",
      "Update 13500001\n",
      "Select 13500001\n",
      "Insert 14000001\n",
      "Update 14000001\n",
      "Select 14000001\n",
      "Insert 14500001\n",
      "Update 14500001\n",
      "Select 14500001\n",
      "Insert 15000001\n",
      "Update 15000001\n",
      "Select 15000001\n",
      "Insert 15500001\n",
      "Update 15500001\n",
      "Select 15500001\n",
      "Insert 16000001\n",
      "Update 16000001\n",
      "Select 16000001\n",
      "Insert 16500001\n",
      "Update 16500001\n",
      "Select 16500001\n",
      "Insert 17000001\n",
      "Update 17000001\n",
      "Select 17000001\n",
      "Insert 17500001\n",
      "Update 17500001\n",
      "Select 17500001\n",
      "Insert 18000001\n",
      "Update 18000001\n",
      "Select 18000001\n",
      "Insert 18500001\n",
      "Update 18500001\n",
      "Select 18500001\n",
      "Insert 19000001\n",
      "Update 19000001\n",
      "Select 19000001\n",
      "Insert 19500001\n",
      "Update 19500001\n",
      "Select 19500001\n",
      "Insert 20000001\n",
      "Update 20000001\n",
      "Select 20000001\n",
      "Insert 20500001\n",
      "Update 20500001\n",
      "Select 20500001\n",
      "Insert 21000001\n",
      "Update 21000001\n",
      "Select 21000001\n",
      "Insert 21500001\n",
      "Update 21500001\n",
      "Select 21500001\n",
      "Insert 22000001\n",
      "Update 22000001\n",
      "Select 22000001\n",
      "Insert 22500001\n",
      "Update 22500001\n",
      "Select 22500001\n",
      "Insert 23000001\n",
      "Update 23000001\n",
      "Select 23000001\n",
      "Insert 23500001\n",
      "Update 23500001\n",
      "Select 23500001\n",
      "Insert 24000001\n",
      "Update 24000001\n",
      "Select 24000001\n",
      "Insert 24500001\n",
      "Update 24500001\n",
      "Select 24500001\n",
      "Insert 25000001\n",
      "Update 25000001\n",
      "Select 25000001\n",
      "Insert 25500001\n",
      "Update 25500001\n",
      "Select 25500001\n",
      "Insert 26000001\n",
      "Update 26000001\n",
      "Select 26000001\n",
      "Insert 26500001\n",
      "Update 26500001\n",
      "Select 26500001\n",
      "Insert 27000001\n",
      "Update 27000001\n",
      "Select 27000001\n",
      "Insert 27500001\n",
      "Update 27500001\n",
      "Select 27500001\n",
      "Insert 28000001\n",
      "Update 28000001\n",
      "Select 28000001\n",
      "Insert 28500001\n",
      "Update 28500001\n",
      "Select 28500001\n",
      "Insert 29000001\n",
      "Update 29000001\n",
      "Select 29000001\n",
      "Insert 29500001\n",
      "Update 29500001\n",
      "Select 29500001\n",
      "Insert 30000001\n",
      "Update 30000001\n",
      "Select 30000001\n"
     ]
    }
   ],
   "source": [
    "control = 1\n",
    "for j in range(R):\n",
    "    control = BI*j + 1\n",
    "    t, control = insert(control)\n",
    "    print('Insert', control)\n",
    "    insertTimes.append(t)\n",
    "    control = BI*j + 1\n",
    "    t, control = update(control)\n",
    "    print('Update', control)\n",
    "    updateTimes.append(t)\n",
    "    control = BI*j + 1\n",
    "    t, control = select(control)\n",
    "    print('Select', control)\n",
    "    selectTimes.append(t)"
   ]
  },
  {
   "cell_type": "markdown",
   "metadata": {},
   "source": [
    "## Insert Times"
   ]
  },
  {
   "cell_type": "code",
   "execution_count": 9,
   "metadata": {},
   "outputs": [
    {
     "name": "stdout",
     "output_type": "stream",
     "text": [
      "[291.44701504707336, 281.9079370498657, 284.9551887512207, 284.62936639785767, 287.4760973453522, 275.56003642082214, 286.0371124744415, 294.37338638305664, 284.5533924102783, 295.4633424282074, 265.58461713790894, 284.3162958621979, 282.37146401405334, 291.56415128707886, 283.88304018974304, 264.07570219039917, 280.0884313583374, 287.6671850681305, 292.178537607193, 284.6999385356903, 294.7129485607147, 286.23923230171204, 289.8728711605072, 282.64723944664, 284.1487913131714, 263.5693428516388, 284.1572675704956, 288.26619482040405, 283.17818903923035, 284.4209260940552, 266.01136350631714, 293.1685905456543, 283.80241894721985, 290.18607211112976, 285.05680084228516, 284.12154817581177, 284.42721605300903, 290.6511800289154, 282.9930200576782, 285.6812880039215, 281.8555066585541, 281.3873453140259, 289.74067640304565, 284.7027232646942, 290.61854577064514, 260.23555278778076, 284.3875005245209, 287.6589071750641, 282.1532061100006, 282.0877728462219, 266.92705488204956, 286.7251739501953, 283.8313989639282, 233.47604084014893, 283.4383132457733, 289.9992938041687, 286.92081022262573, 293.49960589408875, 284.29196763038635, 288.2667007446289]\n"
     ]
    }
   ],
   "source": [
    "print(insertTimes)"
   ]
  },
  {
   "cell_type": "code",
   "execution_count": 10,
   "metadata": {},
   "outputs": [
    {
     "data": {
      "image/png": "[encoded data removed]",
      "text/plain": [
       "<Figure size 432x288 with 1 Axes>"
      ]
     },
     "metadata": {},
     "output_type": "display_data"
    }
   ],
   "source": [
    "plt.bar(categories, insertTimes)\n",
    "plt.plot(categories, insertTimes, color='red')\n",
    "plt.show()"
   ]
  },
  {
   "cell_type": "markdown",
   "metadata": {},
   "source": [
    "## Update Times"
   ]
  },
  {
   "cell_type": "code",
   "execution_count": 11,
   "metadata": {},
   "outputs": [
    {
     "name": "stdout",
     "output_type": "stream",
     "text": [
      "[287.53861904144287, 294.84252882003784, 284.0343782901764, 295.15848112106323, 291.64350152015686, 276.8566710948944, 286.9777932167053, 287.8181507587433, 288.89555501937866, 289.4388852119446, 295.5371108055115, 287.6772336959839, 288.91478729248047, 290.72208857536316, 292.8616518974304, 289.9347939491272, 291.5666708946228, 287.0134553909302, 288.11889028549194, 288.4780614376068, 198.76799154281616, 285.49740529060364, 290.17695355415344, 295.78517055511475, 285.99971175193787, 293.41267466545105, 280.9542303085327, 291.4919157028198, 289.94464349746704, 292.0251796245575, 287.12279748916626, 282.75751399993896, 287.5594894886017, 290.3966021537781, 292.86313700675964, 267.45076608657837, 287.57077193260193, 289.9466607570648, 293.7104592323303, 282.8330109119415, 234.22470092773438, 285.28719091415405, 288.6008358001709, 289.5266695022583, 286.5531544685364, 291.9770493507385, 285.27148175239563, 291.337464094162, 286.7414438724518, 291.4932425022125, 286.69875621795654, 287.83675479888916, 283.4419095516205, 275.01501083374023, 291.72865414619446, 260.3788516521454, 285.13366174697876, 288.1490614414215, 241.87772178649902, 286.32148909568787]\n"
     ]
    }
   ],
   "source": [
    "print(updateTimes)"
   ]
  },
  {
   "cell_type": "code",
   "execution_count": 12,
   "metadata": {},
   "outputs": [
    {
     "data": {
      "image/png": "[encoded data removed]",
      "text/plain": [
       "<Figure size 432x288 with 1 Axes>"
      ]
     },
     "metadata": {},
     "output_type": "display_data"
    }
   ],
   "source": [
    "plt.bar(categories, updateTimes)\n",
    "plt.plot(categories, updateTimes, color='red')\n",
    "plt.show()"
   ]
  },
  {
   "cell_type": "markdown",
   "metadata": {},
   "source": [
    "## Select Times"
   ]
  },
  {
   "cell_type": "code",
   "execution_count": 13,
   "metadata": {},
   "outputs": [
    {
     "name": "stdout",
     "output_type": "stream",
     "text": [
      "[487.788809299469, 505.5216474533081, 507.37495374679565, 513.5327150821686, 495.47974491119385, 518.9184846878052, 503.88432121276855, 513.0387496948242, 546.1167924404144, 518.24968791008, 511.9931561946869, 508.4126024246216, 496.19163823127747, 496.1863868236542, 509.63046073913574, 494.60871863365173, 514.6799829006195, 500.3068947792053, 510.7070755958557, 497.0084159374237, 526.8253388404846, 497.76047563552856, 502.971337556839, 506.3001935482025, 514.7276899814606, 518.8244211673737, 504.4270272254944, 512.0099291801453, 490.99926710128784, 514.2931373119354, 500.70743060112, 517.2393546104431, 499.5166919231415, 499.964394569397, 508.4282736778259, 514.1804668903351, 495.7787172794342, 498.19129514694214, 511.2648241519928, 509.4653670787811, 520.5551605224609, 500.00852274894714, 510.30941581726074, 497.42801570892334, 517.4247839450836, 515.8983154296875, 508.0095782279968, 511.45652866363525, 493.1903395652771, 513.6905400753021, 494.62239837646484, 519.0240738391876, 499.62804675102234, 502.93586134910583, 498.5634000301361, 523.7465634346008, 497.05630922317505, 501.9745762348175, 509.81462121009827, 510.27474069595337]\n"
     ]
    }
   ],
   "source": [
    "print(selectTimes)"
   ]
  },
  {
   "cell_type": "code",
   "execution_count": 14,
   "metadata": {},
   "outputs": [
    {
     "data": {
      "image/png": "[encoded data removed]",
      "text/plain": [
       "<Figure size 432x288 with 1 Axes>"
      ]
     },
     "metadata": {},
     "output_type": "display_data"
    }
   ],
   "source": [
    "plt.bar(categories, selectTimes)\n",
    "plt.plot(categories, selectTimes, color='red')\n",
    "plt.show()"
   ]
  },
  {
   "cell_type": "code",
   "execution_count": null,
   "metadata": {},
   "outputs": [],
   "source": []
  }
 ],
 "metadata": {
  "kernelspec": {
   "display_name": "Python 3",
   "language": "python",
   "name": "python3"
  },
  "language_info": {
   "codemirror_mode": {
    "name": "ipython",
    "version": 3
   },
   "file_extension": ".py",
   "mimetype": "text/x-python",
   "name": "python",
   "nbconvert_exporter": "python",
   "pygments_lexer": "ipython3",
   "version": "3.5.2"
  }
 },
 "nbformat": 4,
 "nbformat_minor": 2
}
