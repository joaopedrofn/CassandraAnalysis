{
 "cells": [
  {
   "cell_type": "markdown",
   "metadata": {},
   "source": [
    "# Sintetic Software Used  To Analysis of Cassandra's Performance"
   ]
  },
  {
   "cell_type": "markdown",
   "metadata": {},
   "source": [
    "## Imports"
   ]
  },
  {
   "cell_type": "code",
   "execution_count": 1,
   "metadata": {},
   "outputs": [],
   "source": [
    "from cassandra.cluster import Cluster\n",
    "from cassandra.auth import PlainTextAuthProvider"
   ]
  },
  {
   "cell_type": "markdown",
   "metadata": {},
   "source": [
    "## Database configuration\n",
    "\n",
    "### Database Structure\n",
    "<pre>+-----------------------+ \n",
    "|        table          |\n",
    "+-----------------------+\n",
    "| A0 | UUID        | PK |\n",
    "| A1 | INT         |    |\n",
    "| A2 | BIGINT      |    |\n",
    "| A3 | DOUBLE      |    |\n",
    "| A4 | VARCHAR(26) |    |\n",
    "| A5 | TEXT        |    |\n",
    "| A6 | DATE        |    |\n",
    "| A7 | TIMESTAMP   |    |\n",
    "+-----------------------+</pre>"
   ]
  },
  {
   "cell_type": "code",
   "execution_count": 19,
   "metadata": {},
   "outputs": [
    {
     "name": "stdout",
     "output_type": "stream",
     "text": [
      "+----------------------------------+\n",
      "|              table               |\n",
      "+----------------------------------+\n",
      "| a0 | uuid       | partition_key  |\n",
      "| a1 | int        | regular        |\n",
      "| a2 | bigint     | regular        |\n",
      "| a3 | double     | regular        |\n",
      "| a4 | text       | regular        |\n",
      "| a5 | text       | regular        |\n",
      "| a6 | date       | regular        |\n",
      "| a7 | timestamp  | regular        |\n",
      "+----------------------------------+\n"
     ]
    }
   ],
   "source": [
    "cluster = Cluster(['localhost'], auth_provider=PlainTextAuthProvider('cassandra', 'cassandra'))\n",
    "session = cluster.connect()\n",
    "\n",
    "# Set User\n",
    "# session.execute('ALTER USER cassandra WITH PASSWORD \\'cassandra\\'')\n",
    "\n",
    "# Create KeySpace\n",
    "session.execute('CREATE KEYSPACE IF NOT EXISTS analysis WITH replication = {\\'class\\': \\'SimpleStrategy\\', \\'replication_factor\\': 1}')\n",
    "\n",
    "# Use KeySpace created\n",
    "session.set_keyspace('analysis')\n",
    "\n",
    "# Create Table\n",
    "session.execute(\"CREATE TABLE IF NOT EXISTS \\\"table\\\" (\"+\n",
    "                \"A0 uuid PRIMARY KEY, \"+\n",
    "                \"A1 int, \"+\n",
    "                \"A2 bigint, \"+\n",
    "                \"A3 double, \"+\n",
    "                \"A4 varchar, \"+\n",
    "                \"A5 text, \"+\n",
    "                \"A6 date, \"+\n",
    "                \"A7 timestamp )\")\n",
    "rows = session.execute('select * from system_schema.columns')\n",
    "print('+----------------------------------+')\n",
    "print('|              table               |')\n",
    "print('+----------------------------------+')\n",
    "for row in rows:\n",
    "    if row.table_name == 'table':\n",
    "        print('|', row.column_name, '|', row.type, ' '*(9-len(row.type)), '|',  row.kind, ' '*(13-len(row.kind)), '|')\n",
    "print('+----------------------------------+')"
   ]
  },
  {
   "cell_type": "code",
   "execution_count": null,
   "metadata": {},
   "outputs": [],
   "source": []
  }
 ],
 "metadata": {
  "kernelspec": {
   "display_name": "Python 3",
   "language": "python",
   "name": "python3"
  },
  "language_info": {
   "codemirror_mode": {
    "name": "ipython",
    "version": 3
   },
   "file_extension": ".py",
   "mimetype": "text/x-python",
   "name": "python",
   "nbconvert_exporter": "python",
   "pygments_lexer": "ipython3",
   "version": "3.6.5"
  }
 },
 "nbformat": 4,
 "nbformat_minor": 2
}
