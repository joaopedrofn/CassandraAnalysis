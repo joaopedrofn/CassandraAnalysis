{
 "cells": [
  {
   "cell_type": "markdown",
   "metadata": {},
   "source": [
    "# Sintetic Software Used  To Analysis of Cassandra's Performance"
   ]
  },
  {
   "cell_type": "markdown",
   "metadata": {},
   "source": [
    "## Imports"
   ]
  },
  {
   "cell_type": "code",
   "execution_count": 1,
   "metadata": {},
   "outputs": [],
   "source": [
    "from cassandra.cluster import Cluster\n",
    "from cassandra.auth import PlainTextAuthProvider\n",
    "import time"
   ]
  },
  {
   "cell_type": "markdown",
   "metadata": {},
   "source": [
    "## Database configuration\n",
    "\n",
    "### Database Structure\n",
    "<pre>+-----------------------+ \n",
    "|        table          |\n",
    "+-----------------------+\n",
    "| A0 | UUID        |    |\n",
    "| A1 | INT         | PK |\n",
    "| A2 | BIGINT      |    |\n",
    "| A3 | DOUBLE      |    |\n",
    "| A4 | VARCHAR(26) |    |\n",
    "| A5 | TEXT        |    |\n",
    "| A6 | DATE        |    |\n",
    "| A7 | TIMESTAMP   |    |\n",
    "+-----------------------+</pre>"
   ]
  },
  {
   "cell_type": "code",
   "execution_count": 2,
   "metadata": {},
   "outputs": [
    {
     "name": "stdout",
     "output_type": "stream",
     "text": [
      "+----------------------------------+\n",
      "|              table               |\n",
      "+----------------------------------+\n",
      "| a0 | uuid       | regular        |\n",
      "| a1 | int        | partition_key  |\n",
      "| a2 | bigint     | regular        |\n",
      "| a3 | double     | regular        |\n",
      "| a4 | text       | regular        |\n",
      "| a5 | text       | regular        |\n",
      "| a6 | date       | regular        |\n",
      "| a7 | timestamp  | regular        |\n",
      "+----------------------------------+\n"
     ]
    }
   ],
   "source": [
    "cluster = Cluster(['localhost'], auth_provider=PlainTextAuthProvider('cassandra', 'cassandra'))\n",
    "session = cluster.connect()\n",
    "\n",
    "# Set User\n",
    "# session.execute('ALTER USER cassandra WITH PASSWORD \\'cassandra\\'')\n",
    "\n",
    "# Create KeySpace\n",
    "session.execute('CREATE KEYSPACE IF NOT EXISTS analysis WITH replication = {\\'class\\': \\'SimpleStrategy\\', \\'replication_factor\\': 1}')\n",
    "\n",
    "# Use KeySpace created\n",
    "session.set_keyspace('analysis')\n",
    "\n",
    "# Create Table\n",
    "session.execute(\"CREATE TABLE IF NOT EXISTS \\\"table\\\" (\"+\n",
    "                \"A0 uuid, \"+\n",
    "                \"A1 int PRIMARY KEY, \"+\n",
    "                \"A2 bigint, \"+\n",
    "                \"A3 double, \"+\n",
    "                \"A4 varchar, \"+\n",
    "                \"A5 text, \"+\n",
    "                \"A6 date, \"+\n",
    "                \"A7 timestamp )\")\n",
    "rows = session.execute('select * from system_schema.columns')\n",
    "print('+----------------------------------+')\n",
    "print('|              table               |')\n",
    "print('+----------------------------------+')\n",
    "for row in rows:\n",
    "    if row.table_name == 'table':\n",
    "        print('|', row.column_name, '|', row.type, ' '*(9-len(row.type)), '|',  row.kind, ' '*(13-len(row.kind)), '|')\n",
    "print('+----------------------------------+')"
   ]
  },
  {
   "cell_type": "markdown",
   "metadata": {},
   "source": [
    "## Meta data\n",
    "\n",
    "* R is the number of iterations <br />\n",
    "* BI is the size of a block of insertions<br />\n",
    "* BU is the size of a block of updates<br />\n",
    "* BS is the size of a block of selections<br />"
   ]
  },
  {
   "cell_type": "code",
   "execution_count": 3,
   "metadata": {},
   "outputs": [],
   "source": [
    "R = 60\n",
    "BI = BU = BS = 500000\n",
    "control = 1"
   ]
  },
  {
   "cell_type": "markdown",
   "metadata": {},
   "source": [
    "## Definition of functions"
   ]
  },
  {
   "cell_type": "code",
   "execution_count": 4,
   "metadata": {},
   "outputs": [],
   "source": [
    "def insert(control):\n",
    "    initialTime = time.time()\n",
    "    for i in range(BI):\n",
    "        session.execute('INSERT INTO \"table\" (A0, A1, A2, A3, A4, A5, A6, A7) VALUES ('+\n",
    "                        'uuid(), '+\n",
    "                        str(control)+', '+\n",
    "                        '9223372036854775807, '+\n",
    "                        '1.2, '+\n",
    "                        '\\'abcdefghijklmnopqrstuvwxy\\', '+\n",
    "                        '\\'Lorem ipsum dolor sit amet, consectetur adipiscing elit. Integer ultricies lorem metus, vel finibus risus convallis sit amet. Nam auctor ex et ipsum euismod, vel consectetur eros blandit. Sed sit amet enim vitae nisi varius molestie. Maecenas in tortor sem. Ut sit amet lobortis erat, ac egestas libero. Nunc id purus sodales, dictum massa gravida, condimentum diam. Maecenas eu vulputate nunc, vitae tempor odio. Orci varius natoque penatibus et magnis dis parturient montes, nascetur ridiculus mus. Duis vitae turpis quam. Maecenas at dui at justo vehicula scelerisque eu in eros. Sed volutpat, magna nec pretium tincidunt, risus nibh posuere mauris, quis feugiat augue lorem ut nunc. Lorem ipsum dolor sit amet, consectetur adipiscing elit. In eu tellus nec nulla ultricies efficitur. Interdum et malesuada fames ac ante ipsum primis in faucibus. \\', '+\n",
    "                        'toDate(dateof(now())), '+\n",
    "                        'dateof(now())'+\n",
    "                        ')')\n",
    "        control += 1\n",
    "    return (time.time() - initialTime), control"
   ]
  },
  {
   "cell_type": "code",
   "execution_count": 5,
   "metadata": {},
   "outputs": [],
   "source": [
    "def update(control):\n",
    "    initialTime = time.time()\n",
    "    for i in range(BI):\n",
    "        session.execute('UPDATE \"table\" SET '+\n",
    "                        'A2 = 9223372036854775800, '+\n",
    "                        'A3 = 1.3, '+\n",
    "                        'A4 = \\'abbdefghijklmnopqrstuvwxy\\', '+\n",
    "                        'A5 = \\'Lorem ipsum dolor site amet, consectetur adipiscing elit. Integer ultricies lorem metus, vel finibus risus convallis sit amet. Nam auctor ex et ipsum euismod, vel consectetur eros blandit. Sed sit amet enim vitae nisi varius molestie. Maecenas in tortor sem. Ut sit amet lobortis erat, ac egestas libero. Nunc id purus sodales, dictum massa gravida, condimentum diam. Maecenas eu vulputate nunc, vitae tempor odio. Orci varius natoque penatibus et magnis dis parturient montes, nascetur ridiculus mus. Duis vitae turpis quam. Maecenas at dui at justo vehicula scelerisque eu in eros. Sed volutpat, magna nec pretium tincidunt, risus nibh posuere mauris, quis feugiat augue lorem ut nunc. Lorem ipsum dolor sit amet, consectetur adipiscing elit. In eu tellus nec nulla ultricies efficitur. Interdum et malesuada fames ac ante ipsum primis in faucibus. \\', '+\n",
    "                        'A6 = toDate(dateof(now())), '+\n",
    "                        'A7 = dateof(now())'+\n",
    "                        'WHERE A1 = '+str(control))\n",
    "        control += 1\n",
    "    return (time.time() - initialTime), control"
   ]
  },
  {
   "cell_type": "code",
   "execution_count": 6,
   "metadata": {},
   "outputs": [],
   "source": [
    "def select(control):\n",
    "    initialTime = time.time()\n",
    "    for i in range(BI):\n",
    "        session.execute('SELECT * FROM \"table\" WHERE A1 = '+str(control))\n",
    "        control += 1\n",
    "    return (time.time() - initialTime), control"
   ]
  },
  {
   "cell_type": "markdown",
   "metadata": {},
   "source": [
    "## Storage"
   ]
  },
  {
   "cell_type": "code",
   "execution_count": 7,
   "metadata": {},
   "outputs": [],
   "source": [
    "insertTimes = []\n",
    "updateTimes = []\n",
    "selectTimes = []"
   ]
  },
  {
   "cell_type": "markdown",
   "metadata": {},
   "source": [
    "## DO IT"
   ]
  },
  {
   "cell_type": "code",
   "execution_count": 8,
   "metadata": {},
   "outputs": [
    {
     "ename": "UnboundLocalError",
     "evalue": "local variable 'control' referenced before assignment",
     "output_type": "error",
     "traceback": [
      "\u001b[0;31m---------------------------------------------------------------------------\u001b[0m",
      "\u001b[0;31mUnboundLocalError\u001b[0m                         Traceback (most recent call last)",
      "\u001b[0;32m<ipython-input-8-bdbe8da784b5>\u001b[0m in \u001b[0;36m<module>\u001b[0;34m()\u001b[0m\n\u001b[1;32m      1\u001b[0m \u001b[0;32mfor\u001b[0m \u001b[0mj\u001b[0m \u001b[0;32min\u001b[0m \u001b[0mrange\u001b[0m\u001b[0;34m(\u001b[0m\u001b[0mR\u001b[0m\u001b[0;34m)\u001b[0m\u001b[0;34m:\u001b[0m\u001b[0;34m\u001b[0m\u001b[0m\n\u001b[0;32m----> 2\u001b[0;31m     \u001b[0minsertTimes\u001b[0m\u001b[0;34m.\u001b[0m\u001b[0mappend\u001b[0m\u001b[0;34m(\u001b[0m\u001b[0minsert\u001b[0m\u001b[0;34m(\u001b[0m\u001b[0;34m)\u001b[0m\u001b[0;34m)\u001b[0m\u001b[0;34m\u001b[0m\u001b[0m\n\u001b[0m\u001b[1;32m      3\u001b[0m     \u001b[0mprint\u001b[0m\u001b[0;34m(\u001b[0m\u001b[0;34m'Insert'\u001b[0m\u001b[0;34m,\u001b[0m \u001b[0minsertTimes\u001b[0m\u001b[0;34m)\u001b[0m\u001b[0;34m\u001b[0m\u001b[0m\n\u001b[1;32m      4\u001b[0m \u001b[0;32mfor\u001b[0m \u001b[0mj\u001b[0m \u001b[0;32min\u001b[0m \u001b[0mrange\u001b[0m\u001b[0;34m(\u001b[0m\u001b[0mR\u001b[0m\u001b[0;34m)\u001b[0m\u001b[0;34m:\u001b[0m\u001b[0;34m\u001b[0m\u001b[0m\n\u001b[1;32m      5\u001b[0m     \u001b[0mupdateTimes\u001b[0m\u001b[0;34m.\u001b[0m\u001b[0mappend\u001b[0m\u001b[0;34m(\u001b[0m\u001b[0mupdate\u001b[0m\u001b[0;34m(\u001b[0m\u001b[0;34m)\u001b[0m\u001b[0;34m)\u001b[0m\u001b[0;34m\u001b[0m\u001b[0m\n",
      "\u001b[0;32m<ipython-input-4-a211f333b0fc>\u001b[0m in \u001b[0;36minsert\u001b[0;34m()\u001b[0m\n\u001b[1;32m     10\u001b[0m                         \u001b[0;34m'\\'Lorem ipsum dolor sit amet, consectetur adipiscing elit. Integer ultricies lorem metus, vel finibus risus convallis sit amet. Nam auctor ex et ipsum euismod, vel consectetur eros blandit. Sed sit amet enim vitae nisi varius molestie. Maecenas in tortor sem. Ut sit amet lobortis erat, ac egestas libero. Nunc id purus sodales, dictum massa gravida, condimentum diam. Maecenas eu vulputate nunc, vitae tempor odio. Orci varius natoque penatibus et magnis dis parturient montes, nascetur ridiculus mus. Duis vitae turpis quam. Maecenas at dui at justo vehicula scelerisque eu in eros. Sed volutpat, magna nec pretium tincidunt, risus nibh posuere mauris, quis feugiat augue lorem ut nunc. Lorem ipsum dolor sit amet, consectetur adipiscing elit. In eu tellus nec nulla ultricies efficitur. Interdum et malesuada fames ac ante ipsum primis in faucibus. \\', '\u001b[0m\u001b[0;34m+\u001b[0m\u001b[0;34m\u001b[0m\u001b[0m\n\u001b[1;32m     11\u001b[0m                         \u001b[0;34m'toDate(dateof(now())), '\u001b[0m\u001b[0;34m+\u001b[0m\u001b[0;34m\u001b[0m\u001b[0m\n\u001b[0;32m---> 12\u001b[0;31m                         \u001b[0;34m'dateof(now())'\u001b[0m\u001b[0;34m+\u001b[0m\u001b[0;34m\u001b[0m\u001b[0m\n\u001b[0m\u001b[1;32m     13\u001b[0m                         ')')\n\u001b[1;32m     14\u001b[0m         \u001b[0mcontrol\u001b[0m \u001b[0;34m+=\u001b[0m \u001b[0;36m1\u001b[0m\u001b[0;34m\u001b[0m\u001b[0m\n",
      "\u001b[0;31mUnboundLocalError\u001b[0m: local variable 'control' referenced before assignment"
     ]
    }
   ],
   "source": [
    "for j in range(R):\n",
    "    t, control = insert(control)\n",
    "    insertTimes.append(t)\n",
    "    print('Insert', insertTimes)\n",
    "for j in range(R):\n",
    "    t, control = update(control)\n",
    "    updateTimes.append(t)\n",
    "    print('Update', updateTimes)\n",
    "for j in range(R):\n",
    "    t, control = select(control)\n",
    "    selectTimes.append(t)\n",
    "    print('Select', selectTimes)"
   ]
  },
  {
   "cell_type": "markdown",
   "metadata": {},
   "source": [
    "## Insert Times"
   ]
  },
  {
   "cell_type": "code",
   "execution_count": null,
   "metadata": {},
   "outputs": [],
   "source": [
    "print(insertTimes)"
   ]
  },
  {
   "cell_type": "markdown",
   "metadata": {},
   "source": [
    "## Update Times"
   ]
  },
  {
   "cell_type": "code",
   "execution_count": null,
   "metadata": {},
   "outputs": [],
   "source": [
    "print(updateTimes)"
   ]
  },
  {
   "cell_type": "markdown",
   "metadata": {},
   "source": [
    "## Select Times"
   ]
  },
  {
   "cell_type": "code",
   "execution_count": null,
   "metadata": {},
   "outputs": [],
   "source": [
    "print(selectTimes)"
   ]
  }
 ],
 "metadata": {
  "kernelspec": {
   "display_name": "Python 3",
   "language": "python",
   "name": "python3"
  },
  "language_info": {
   "codemirror_mode": {
    "name": "ipython",
    "version": 3
   },
   "file_extension": ".py",
   "mimetype": "text/x-python",
   "name": "python",
   "nbconvert_exporter": "python",
   "pygments_lexer": "ipython3",
   "version": "3.6.5"
  }
 },
 "nbformat": 4,
 "nbformat_minor": 2
}
